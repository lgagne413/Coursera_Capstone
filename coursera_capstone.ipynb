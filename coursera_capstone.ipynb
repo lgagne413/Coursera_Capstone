{
 "cells": [
  {
   "cell_type": "markdown",
   "metadata": {},
   "source": [
    "# Coursera Capstone\n"
   ]
  },
  {
   "cell_type": "markdown",
   "metadata": {},
   "source": [
    "This notebook will be primarily used for the Coursera IBM Data Science Specialization Capstone Project"
   ]
  },
  {
   "cell_type": "code",
   "execution_count": null,
   "metadata": {},
   "outputs": [],
   "source": [
    "#!conda install -c conda-forge xmltodict --yes"
   ]
  },
  {
   "cell_type": "code",
   "execution_count": 28,
   "metadata": {},
   "outputs": [
    {
     "name": "stdout",
     "output_type": "stream",
     "text": [
      "Hello Capstone Project Course!\n"
     ]
    }
   ],
   "source": [
    "import pandas as pd\n",
    "import numpy as np\n",
    "import requests\n",
    "import json\n",
    "import xmltodict\n",
    "print(\"Hello Capstone Project Course!\")"
   ]
  },
  {
   "cell_type": "markdown",
   "metadata": {},
   "source": [
    "## Foursquare Credentials"
   ]
  },
  {
   "cell_type": "code",
   "execution_count": 29,
   "metadata": {},
   "outputs": [
    {
     "name": "stdout",
     "output_type": "stream",
     "text": [
      "Your credentails:\n",
      "CLIENT_ID: 3B3T4ZAT2ADVQ15YL0QJ3H2DUFNYLBQ3W4J4KJWI5WDVG0PE\n",
      "CLIENT_SECRET:YGXJYCHEJ410LTZKYP5FGQF4C1GQTOBTGMP0EJC1YTINVTSF\n"
     ]
    }
   ],
   "source": [
    "CLIENT_ID = '3B3T4ZAT2ADVQ15YL0QJ3H2DUFNYLBQ3W4J4KJWI5WDVG0PE' # your Foursquare ID\n",
    "CLIENT_SECRET = 'YGXJYCHEJ410LTZKYP5FGQF4C1GQTOBTGMP0EJC1YTINVTSF' # your Foursquare Secret\n",
    "VERSION = '20180604'\n",
    "LIMIT = 30\n",
    "\n",
    "zid = \"X1-ZWz1hiqecilyq3_1mzvh\" #zillow id\n",
    "\n",
    "print('Your credentails:')\n",
    "print('CLIENT_ID: ' + CLIENT_ID)\n",
    "print('CLIENT_SECRET:' + CLIENT_SECRET)\n"
   ]
  },
  {
   "cell_type": "code",
   "execution_count": 63,
   "metadata": {},
   "outputs": [
    {
     "name": "stdout",
     "output_type": "stream",
     "text": [
      "http://www.zillow.com/webservice/GetRegionChildren.htm?zws-id=X1-ZWz1hiqecilyq3_1mzvh&state=oh&city=cleveland&childtype=neighborhood\n",
      "<class 'collections.OrderedDict'>\n"
     ]
    }
   ],
   "source": [
    "zurl = \"http://www.zillow.com/webservice/GetRegionChildren.htm?zws-id={}&state=oh&city=cleveland&childtype=neighborhood\".format(zid)\n",
    "print(zurl)\n",
    "results = xmltodict.parse(requests.get(zurl).content)\n",
    "print(type(results))"
   ]
  },
  {
   "cell_type": "code",
   "execution_count": 80,
   "metadata": {},
   "outputs": [
    {
     "data": {
      "text/plain": [
       "OrderedDict([('id', '271026'),\n",
       "             ('name', 'Old Brooklyn'),\n",
       "             ('zindex',\n",
       "              OrderedDict([('@currency', 'USD'), ('#text', '67200')])),\n",
       "             ('url',\n",
       "              'http://www.zillow.com/local-info/OH-Cleveland/Old-Brooklyn/r_271026/'),\n",
       "             ('latitude', '41.434653'),\n",
       "             ('longitude', '-81.699439')])"
      ]
     },
     "execution_count": 80,
     "metadata": {},
     "output_type": "execute_result"
    }
   ],
   "source": [
    "neigh = results['RegionChildren:regionchildren']['response']['list']['region']\n",
    "neigh[0]\n"
   ]
  },
  {
   "cell_type": "code",
   "execution_count": 88,
   "metadata": {},
   "outputs": [
    {
     "name": "stdout",
     "output_type": "stream",
     "text": [
      "University District has no zindex and so was not included\n",
      "St. Claire-Superior has no zindex and so was not included\n",
      "Goodrich-Kirkland Park has no zindex and so was not included\n",
      "Industrial Valley has no zindex and so was not included\n",
      "Cuyahoga Valley has no zindex and so was not included\n"
     ]
    },
    {
     "data": {
      "text/html": [
       "<div>\n",
       "<style scoped>\n",
       "    .dataframe tbody tr th:only-of-type {\n",
       "        vertical-align: middle;\n",
       "    }\n",
       "\n",
       "    .dataframe tbody tr th {\n",
       "        vertical-align: top;\n",
       "    }\n",
       "\n",
       "    .dataframe thead th {\n",
       "        text-align: right;\n",
       "    }\n",
       "</style>\n",
       "<table border=\"1\" class=\"dataframe\">\n",
       "  <thead>\n",
       "    <tr style=\"text-align: right;\">\n",
       "      <th></th>\n",
       "      <th>Neighborhood</th>\n",
       "      <th>Median Home Value</th>\n",
       "      <th>Latitude</th>\n",
       "      <th>Longitude</th>\n",
       "    </tr>\n",
       "  </thead>\n",
       "  <tbody>\n",
       "    <tr>\n",
       "      <th>0</th>\n",
       "      <td>Old Brooklyn</td>\n",
       "      <td>67200</td>\n",
       "      <td>41.434653</td>\n",
       "      <td>-81.699439</td>\n",
       "    </tr>\n",
       "    <tr>\n",
       "      <th>1</th>\n",
       "      <td>Kamm's Corner</td>\n",
       "      <td>102600</td>\n",
       "      <td>41.452172</td>\n",
       "      <td>-81.813446</td>\n",
       "    </tr>\n",
       "    <tr>\n",
       "      <th>2</th>\n",
       "      <td>Jefferson</td>\n",
       "      <td>58700</td>\n",
       "      <td>41.456077</td>\n",
       "      <td>-81.787534</td>\n",
       "    </tr>\n",
       "    <tr>\n",
       "      <th>3</th>\n",
       "      <td>Puritas-Longmead</td>\n",
       "      <td>53300</td>\n",
       "      <td>41.431929</td>\n",
       "      <td>-81.799845</td>\n",
       "    </tr>\n",
       "    <tr>\n",
       "      <th>4</th>\n",
       "      <td>West Boulevard</td>\n",
       "      <td>54500</td>\n",
       "      <td>41.458629</td>\n",
       "      <td>-81.7496</td>\n",
       "    </tr>\n",
       "  </tbody>\n",
       "</table>\n",
       "</div>"
      ],
      "text/plain": [
       "       Neighborhood Median Home Value   Latitude   Longitude\n",
       "0      Old Brooklyn             67200  41.434653  -81.699439\n",
       "1     Kamm's Corner            102600  41.452172  -81.813446\n",
       "2         Jefferson             58700  41.456077  -81.787534\n",
       "3  Puritas-Longmead             53300  41.431929  -81.799845\n",
       "4    West Boulevard             54500  41.458629    -81.7496"
      ]
     },
     "execution_count": 88,
     "metadata": {},
     "output_type": "execute_result"
    }
   ],
   "source": [
    "zdf = pd.DataFrame(columns = ['Neighborhood','Median Home Value','Latitude','Longitude'])\n",
    "i=0\n",
    "for n in neigh:\n",
    "    try:\n",
    "        (n['zindex'])\n",
    "        zdf.loc[i] = [n['name'],n['zindex']['#text'],n['latitude'],n['longitude']]\n",
    "        i+=1\n",
    "    except:\n",
    "        print(\"{} has no zindex and so was not included\".format(n['name']))\n",
    "    \n",
    "    \n",
    "zdf.head()"
   ]
  },
  {
   "cell_type": "code",
   "execution_count": 97,
   "metadata": {},
   "outputs": [
    {
     "name": "stdout",
     "output_type": "stream",
     "text": [
      "<class 'pandas.core.frame.DataFrame'>\n",
      "Int64Index: 32 entries, 0 to 31\n",
      "Data columns (total 4 columns):\n",
      "Neighborhood         32 non-null object\n",
      "Median Home Value    32 non-null int64\n",
      "Latitude             32 non-null float64\n",
      "Longitude            32 non-null float64\n",
      "dtypes: float64(2), int64(1), object(1)\n",
      "memory usage: 1.2+ KB\n"
     ]
    }
   ],
   "source": [
    "zdf['Median Home Value'] = pd.to_numeric(zdf['Median Home Value'])\n",
    "zdf['Latitude'] = pd.to_numeric(zdf['Latitude'])\n",
    "zdf['Longitude'] = pd.to_numeric(zdf['Longitude'])\n",
    "zdf.info()"
   ]
  },
  {
   "cell_type": "code",
   "execution_count": null,
   "metadata": {},
   "outputs": [],
   "source": [
    "#on to 4square!"
   ]
  }
 ],
 "metadata": {
  "kernelspec": {
   "display_name": "Python 3",
   "language": "python",
   "name": "python3"
  },
  "language_info": {
   "codemirror_mode": {
    "name": "ipython",
    "version": 3
   },
   "file_extension": ".py",
   "mimetype": "text/x-python",
   "name": "python",
   "nbconvert_exporter": "python",
   "pygments_lexer": "ipython3",
   "version": "3.7.3"
  }
 },
 "nbformat": 4,
 "nbformat_minor": 2
}
